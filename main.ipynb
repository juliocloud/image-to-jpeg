{
 "cells": [
  {
   "cell_type": "code",
   "execution_count": null,
   "metadata": {},
   "outputs": [
    {
     "name": "stdout",
     "output_type": "stream",
     "text": [
      "(1436, 2563, 3)\n"
     ]
    },
    {
     "ename": "KeyboardInterrupt",
     "evalue": "",
     "output_type": "error",
     "traceback": [
      "\u001b[1;31m---------------------------------------------------------------------------\u001b[0m",
      "\u001b[1;31mKeyboardInterrupt\u001b[0m                         Traceback (most recent call last)",
      "Cell \u001b[1;32mIn[3], line 31\u001b[0m\n\u001b[0;32m     29\u001b[0m         arrayYCRCB[i,j,\u001b[38;5;241m0\u001b[39m] \u001b[38;5;241m=\u001b[39m \u001b[38;5;241m0.257\u001b[39m\u001b[38;5;241m*\u001b[39mr \u001b[38;5;241m+\u001b[39m \u001b[38;5;241m0.505\u001b[39m\u001b[38;5;241m*\u001b[39mg \u001b[38;5;241m+\u001b[39m \u001b[38;5;241m0.098\u001b[39m\u001b[38;5;241m*\u001b[39mb \u001b[38;5;241m+\u001b[39m \u001b[38;5;241m16\u001b[39m\n\u001b[0;32m     30\u001b[0m         arrayYCRCB[i,j,\u001b[38;5;241m1\u001b[39m] \u001b[38;5;241m=\u001b[39m \u001b[38;5;241m0.439\u001b[39m\u001b[38;5;241m*\u001b[39mr \u001b[38;5;241m-\u001b[39m \u001b[38;5;241m0.368\u001b[39m\u001b[38;5;241m*\u001b[39mg \u001b[38;5;241m-\u001b[39m \u001b[38;5;241m0.071\u001b[39m\u001b[38;5;241m*\u001b[39mb \u001b[38;5;241m+\u001b[39m \u001b[38;5;241m128\u001b[39m\n\u001b[1;32m---> 31\u001b[0m         arrayYCRCB[i,j,\u001b[38;5;241m2\u001b[39m] \u001b[38;5;241m=\u001b[39m \u001b[38;5;241m-\u001b[39m\u001b[38;5;241m0.148\u001b[39m\u001b[38;5;241m*\u001b[39mr \u001b[38;5;241m-\u001b[39m \u001b[38;5;241m0.291\u001b[39m\u001b[38;5;241m*\u001b[39mg  \u001b[38;5;241m+\u001b[39m \u001b[38;5;241m0.439\u001b[39m\u001b[38;5;241m*\u001b[39mb \u001b[38;5;241m+\u001b[39m \u001b[38;5;241m128\u001b[39m\n\u001b[0;32m     34\u001b[0m Image\u001b[38;5;241m.\u001b[39mfromarray(newnparray)\u001b[38;5;241m.\u001b[39msave(\u001b[38;5;124m'\u001b[39m\u001b[38;5;124mnuimg.png\u001b[39m\u001b[38;5;124m'\u001b[39m)\n\u001b[0;32m     35\u001b[0m plt\u001b[38;5;241m.\u001b[39mimshow(newnparray)\n",
      "\u001b[1;31mKeyboardInterrupt\u001b[0m: "
     ]
    }
   ],
   "source": [
    "import numpy as np\n",
    "from PIL import Image\n",
    "import matplotlib.pyplot as plt\n",
    "\n",
    "image = Image.open('./creepa.png')\n",
    "numpy_array = np.array(image)[:,:,:3]\n",
    "newnparray = np.zeros(shape=numpy_array.shape, dtype=np.uint8)\n",
    "arrayYCRCB = np.zeros(shape=newnparray.shape, dtype=np.uint8)\n",
    "\n",
    "(l,c,p) = numpy_array.shape\n",
    "\n",
    "print(numpy_array.shape)\n",
    "for i in range(l):\n",
    "    for j in range(c):\n",
    "        # Basically jab = 4:2:0\n",
    "        if i % 2 == 0:\n",
    "            if j % 2 == 0:\n",
    "                newnparray[i, j] = numpy_array[i, j]\n",
    "            else:\n",
    "                newnparray[i, j] = numpy_array[i, j-1]\n",
    "        else:\n",
    "            if j % 2 == 0:\n",
    "                newnparray[i, j] = numpy_array[i - 1, j]\n",
    "            else:\n",
    "                newnparray[i, j] = numpy_array[i - 1, j-1]\n",
    "        r = newnparray[i,j,0]\n",
    "        g = newnparray[i,j,1]\n",
    "        b = newnparray[i,j,2]\n",
    "        arrayYCRCB[i,j,0] = 0.257*r + 0.505*g + 0.098*b + 16\n",
    "        arrayYCRCB[i,j,1] = 0.439*r - 0.368*g - 0.071*b + 128\n",
    "        arrayYCRCB[i,j,2] = -0.148*r - 0.291*g  + 0.439*b + 128\n",
    "\n",
    "\n",
    "Image.fromarray(newnparray).save('nuimg.png')\n",
    "plt.imshow(newnparray)\n",
    "plt.show()"
   ]
  }
 ],
 "metadata": {
  "kernelspec": {
   "display_name": "Python 3",
   "language": "python",
   "name": "python3"
  },
  "language_info": {
   "codemirror_mode": {
    "name": "ipython",
    "version": 3
   },
   "file_extension": ".py",
   "mimetype": "text/x-python",
   "name": "python",
   "nbconvert_exporter": "python",
   "pygments_lexer": "ipython3",
   "version": "3.12.5"
  }
 },
 "nbformat": 4,
 "nbformat_minor": 2
}
